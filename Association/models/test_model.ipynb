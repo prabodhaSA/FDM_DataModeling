{
 "cells": [
  {
   "cell_type": "code",
   "execution_count": 1,
   "source": [
    "import requests\r\n",
    "import pandas as pd\r\n",
    "import numpy as np\r\n",
    "import json\r\n",
    "import pickle"
   ],
   "outputs": [],
   "metadata": {}
  },
  {
   "cell_type": "code",
   "execution_count": 2,
   "source": [
    "headers = {\r\n",
    "    'content-type': \"application/json\",\r\n",
    "    'cache-control': \"no-cache\",\r\n",
    "}"
   ],
   "outputs": [],
   "metadata": {}
  },
  {
   "cell_type": "code",
   "execution_count": 34,
   "source": [
    "r=requests.get(url='http://127.0.0.1:5000/predictions',headers=headers)\r\n",
    "\r\n",
    "data = r.json()\r\n",
    "\r\n",
    "a_json = json.loads(data)\r\n",
    "\r\n",
    "dataframe = pd.DataFrame.from_dict(a_json, orient=\"columns\")\r\n",
    "\r\n",
    "print(dataframe)\r\n",
    "\r\n",
    "\r\n",
    "\r\n"
   ],
   "outputs": [
    {
     "output_type": "stream",
     "name": "stdout",
     "text": [
      "     support                 itemsets\n",
      "0   0.036344              [Alfajores]\n",
      "1   0.327205                  [Bread]\n",
      "2   0.040042                [Brownie]\n",
      "3   0.103856                   [Cake]\n",
      "4   0.478394                 [Coffee]\n",
      "5   0.054411                [Cookies]\n",
      "6   0.039197             [Farm House]\n",
      "7   0.058320          [Hot chocolate]\n",
      "8   0.038563                  [Juice]\n",
      "9   0.061807              [Medialuna]\n",
      "10  0.038457                 [Muffin]\n",
      "11  0.086107                 [Pastry]\n",
      "12  0.071844               [Sandwich]\n",
      "13  0.029054           [Scandinavian]\n",
      "14  0.034548                  [Scone]\n",
      "15  0.034443                   [Soup]\n",
      "16  0.142631                    [Tea]\n",
      "17  0.033597                  [Toast]\n",
      "18  0.020285               [Truffles]\n",
      "19  0.023349            [Bread, Cake]\n",
      "20  0.090016          [Coffee, Bread]\n",
      "21  0.029160          [Pastry, Bread]\n",
      "22  0.028104             [Tea, Bread]\n",
      "23  0.054728           [Coffee, Cake]\n",
      "24  0.023772              [Tea, Cake]\n",
      "25  0.028209        [Coffee, Cookies]\n",
      "26  0.029583  [Coffee, Hot chocolate]\n",
      "27  0.020602          [Juice, Coffee]\n",
      "28  0.035182      [Medialuna, Coffee]\n",
      "29  0.047544         [Coffee, Pastry]\n",
      "30  0.038246       [Coffee, Sandwich]\n",
      "31  0.049868            [Coffee, Tea]\n",
      "32  0.023666          [Toast, Coffee]\n"
     ]
    }
   ],
   "metadata": {}
  },
  {
   "cell_type": "code",
   "execution_count": 12,
   "source": [
    "## directly loading the model\r\n",
    "\r\n",
    "file_name = 'final_model_appriori.sav'\r\n",
    "loaded_model = pickle.load(open(file_name, 'rb'))\r\n",
    "\r\n",
    "response={'data':[],'prediction_label':{'survived':1,'not survived':0}}\r\n",
    "response['data'] = loaded_model\r\n",
    "\r\n",
    "print(response)\r\n",
    "\r\n"
   ],
   "outputs": [
    {
     "output_type": "stream",
     "name": "stdout",
     "text": [
      "{'data':      support                 itemsets\n",
      "0   0.036344              (Alfajores)\n",
      "1   0.327205                  (Bread)\n",
      "2   0.040042                (Brownie)\n",
      "3   0.103856                   (Cake)\n",
      "4   0.478394                 (Coffee)\n",
      "5   0.054411                (Cookies)\n",
      "6   0.039197             (Farm House)\n",
      "7   0.058320          (Hot chocolate)\n",
      "8   0.038563                  (Juice)\n",
      "9   0.061807              (Medialuna)\n",
      "10  0.038457                 (Muffin)\n",
      "11  0.086107                 (Pastry)\n",
      "12  0.071844               (Sandwich)\n",
      "13  0.029054           (Scandinavian)\n",
      "14  0.034548                  (Scone)\n",
      "15  0.034443                   (Soup)\n",
      "16  0.142631                    (Tea)\n",
      "17  0.033597                  (Toast)\n",
      "18  0.020285               (Truffles)\n",
      "19  0.023349            (Bread, Cake)\n",
      "20  0.090016          (Coffee, Bread)\n",
      "21  0.029160          (Bread, Pastry)\n",
      "22  0.028104             (Bread, Tea)\n",
      "23  0.054728           (Coffee, Cake)\n",
      "24  0.023772              (Tea, Cake)\n",
      "25  0.028209        (Coffee, Cookies)\n",
      "26  0.029583  (Coffee, Hot chocolate)\n",
      "27  0.020602          (Coffee, Juice)\n",
      "28  0.035182      (Coffee, Medialuna)\n",
      "29  0.047544         (Coffee, Pastry)\n",
      "30  0.038246       (Coffee, Sandwich)\n",
      "31  0.049868            (Coffee, Tea)\n",
      "32  0.023666          (Coffee, Toast), 'prediction_label': {'survived': 1, 'not survived': 0}}\n"
     ]
    }
   ],
   "metadata": {}
  }
 ],
 "metadata": {
  "orig_nbformat": 4,
  "language_info": {
   "name": "python",
   "version": "3.9.6",
   "mimetype": "text/x-python",
   "codemirror_mode": {
    "name": "ipython",
    "version": 3
   },
   "pygments_lexer": "ipython3",
   "nbconvert_exporter": "python",
   "file_extension": ".py"
  },
  "kernelspec": {
   "name": "python3",
   "display_name": "Python 3.9.6 64-bit ('flask_new': venv)"
  },
  "interpreter": {
   "hash": "e5099d86fc84efb1beb6bf28889d339661fcd591186dea2588cc1744435a1f62"
  }
 },
 "nbformat": 4,
 "nbformat_minor": 2
}